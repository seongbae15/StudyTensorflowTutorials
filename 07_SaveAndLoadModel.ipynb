{
 "cells": [
  {
   "cell_type": "code",
   "execution_count": 1,
   "metadata": {},
   "outputs": [],
   "source": [
    "import os\n",
    "\n",
    "import tensorflow as tf\n",
    "from tensorflow import keras\n"
   ]
  },
  {
   "cell_type": "code",
   "execution_count": 2,
   "metadata": {},
   "outputs": [],
   "source": [
    "(train_images, train_labels), (test_images, test_labels) = tf.keras.datasets.mnist.load_data()\n",
    "\n",
    "train_labels = train_labels[:1000]\n",
    "test_labels = test_labels[:1000]\n",
    "\n",
    "train_images = train_images[:1000].reshape(-1, 28 * 28) / 255.0\n",
    "test_images = test_images[:1000].reshape(-1, 28 * 28) / 255.0"
   ]
  },
  {
   "cell_type": "code",
   "execution_count": 3,
   "metadata": {},
   "outputs": [
    {
     "name": "stdout",
     "output_type": "stream",
     "text": [
      "Model: \"sequential\"\n",
      "_________________________________________________________________\n",
      " Layer (type)                Output Shape              Param #   \n",
      "=================================================================\n",
      " dense (Dense)               (None, 512)               401920    \n",
      "                                                                 \n",
      " dropout (Dropout)           (None, 512)               0         \n",
      "                                                                 \n",
      " dense_1 (Dense)             (None, 10)                5130      \n",
      "                                                                 \n",
      "=================================================================\n",
      "Total params: 407,050\n",
      "Trainable params: 407,050\n",
      "Non-trainable params: 0\n",
      "_________________________________________________________________\n"
     ]
    }
   ],
   "source": [
    "def create_model():\n",
    "    model = tf.keras.models.Sequential([\n",
    "        keras.layers.Dense(512, activation=\"relu\", input_shape=(784,)),\n",
    "        keras.layers.Dropout(0.2),\n",
    "        keras.layers.Dense(10)\n",
    "    ])\n",
    "\n",
    "    model.compile(optimizer='adam', loss=tf.losses.SparseCategoricalCrossentropy(from_logits=True), metrics=[\"accuracy\"])\n",
    "    return model\n",
    "\n",
    "model = create_model()\n",
    "model.summary()"
   ]
  },
  {
   "cell_type": "code",
   "execution_count": 4,
   "metadata": {},
   "outputs": [
    {
     "name": "stdout",
     "output_type": "stream",
     "text": [
      "training_1\n"
     ]
    }
   ],
   "source": [
    "ckpt_path = \"training_1/cp.ckpt\"\n",
    "ckpt_dir = os.path.dirname(ckpt_path)\n",
    "print(ckpt_dir)"
   ]
  },
  {
   "cell_type": "code",
   "execution_count": 5,
   "metadata": {},
   "outputs": [
    {
     "name": "stdout",
     "output_type": "stream",
     "text": [
      "Epoch 1/10\n",
      "29/32 [==========================>...] - ETA: 0s - loss: 1.1940 - accuracy: 0.6584\n",
      "Epoch 1: saving model to training_1\\cp.ckpt\n",
      "32/32 [==============================] - 3s 11ms/step - loss: 1.1493 - accuracy: 0.6690 - val_loss: 0.7428 - val_accuracy: 0.7680\n",
      "Epoch 2/10\n",
      "29/32 [==========================>...] - ETA: 0s - loss: 0.4088 - accuracy: 0.8890\n",
      "Epoch 2: saving model to training_1\\cp.ckpt\n",
      "32/32 [==============================] - 0s 8ms/step - loss: 0.4135 - accuracy: 0.8880 - val_loss: 0.5520 - val_accuracy: 0.8300\n",
      "Epoch 3/10\n",
      "27/32 [========================>.....] - ETA: 0s - loss: 0.2924 - accuracy: 0.9178\n",
      "Epoch 3: saving model to training_1\\cp.ckpt\n",
      "32/32 [==============================] - 0s 7ms/step - loss: 0.2919 - accuracy: 0.9180 - val_loss: 0.4733 - val_accuracy: 0.8530\n",
      "Epoch 4/10\n",
      "31/32 [============================>.] - ETA: 0s - loss: 0.2042 - accuracy: 0.9556\n",
      "Epoch 4: saving model to training_1\\cp.ckpt\n",
      "32/32 [==============================] - 0s 7ms/step - loss: 0.2036 - accuracy: 0.9560 - val_loss: 0.4576 - val_accuracy: 0.8470\n",
      "Epoch 5/10\n",
      "18/32 [===============>..............] - ETA: 0s - loss: 0.1643 - accuracy: 0.9653\n",
      "Epoch 5: saving model to training_1\\cp.ckpt\n",
      "32/32 [==============================] - 0s 6ms/step - loss: 0.1597 - accuracy: 0.9630 - val_loss: 0.4256 - val_accuracy: 0.8580\n",
      "Epoch 6/10\n",
      "19/32 [================>.............] - ETA: 0s - loss: 0.1189 - accuracy: 0.9737\n",
      "Epoch 6: saving model to training_1\\cp.ckpt\n",
      "32/32 [==============================] - 0s 6ms/step - loss: 0.1211 - accuracy: 0.9740 - val_loss: 0.4157 - val_accuracy: 0.8630\n",
      "Epoch 7/10\n",
      "27/32 [========================>.....] - ETA: 0s - loss: 0.0872 - accuracy: 0.9873\n",
      "Epoch 7: saving model to training_1\\cp.ckpt\n",
      "32/32 [==============================] - 0s 7ms/step - loss: 0.0891 - accuracy: 0.9860 - val_loss: 0.4551 - val_accuracy: 0.8580\n",
      "Epoch 8/10\n",
      "19/32 [================>.............] - ETA: 0s - loss: 0.0714 - accuracy: 0.9885\n",
      "Epoch 8: saving model to training_1\\cp.ckpt\n",
      "32/32 [==============================] - 0s 6ms/step - loss: 0.0659 - accuracy: 0.9920 - val_loss: 0.4176 - val_accuracy: 0.8670\n",
      "Epoch 9/10\n",
      "18/32 [===============>..............] - ETA: 0s - loss: 0.0502 - accuracy: 0.9965\n",
      "Epoch 9: saving model to training_1\\cp.ckpt\n",
      "32/32 [==============================] - 0s 6ms/step - loss: 0.0485 - accuracy: 0.9970 - val_loss: 0.4069 - val_accuracy: 0.8670\n",
      "Epoch 10/10\n",
      "18/32 [===============>..............] - ETA: 0s - loss: 0.0395 - accuracy: 0.9965\n",
      "Epoch 10: saving model to training_1\\cp.ckpt\n",
      "32/32 [==============================] - 0s 6ms/step - loss: 0.0389 - accuracy: 0.9970 - val_loss: 0.4125 - val_accuracy: 0.8700\n"
     ]
    },
    {
     "data": {
      "text/plain": [
       "<keras.callbacks.History at 0x1988ab7e7a0>"
      ]
     },
     "execution_count": 5,
     "metadata": {},
     "output_type": "execute_result"
    }
   ],
   "source": [
    "ckpt_callback = tf.keras.callbacks.ModelCheckpoint(filepath=ckpt_path, save_weights_only=True, verbose=1)\n",
    "\n",
    "model.fit(train_images, train_labels, epochs=10, validation_data=(test_images, test_labels), callbacks=[ckpt_callback])"
   ]
  },
  {
   "cell_type": "code",
   "execution_count": 6,
   "metadata": {},
   "outputs": [
    {
     "data": {
      "text/plain": [
       "['checkpoint', 'cp.ckpt.data-00000-of-00001', 'cp.ckpt.index']"
      ]
     },
     "execution_count": 6,
     "metadata": {},
     "output_type": "execute_result"
    }
   ],
   "source": [
    "os.listdir(ckpt_dir)"
   ]
  },
  {
   "cell_type": "code",
   "execution_count": 8,
   "metadata": {},
   "outputs": [
    {
     "name": "stdout",
     "output_type": "stream",
     "text": [
      "32/32 - 0s - loss: 2.3347 - accuracy: 0.1250 - 179ms/epoch - 6ms/step\n",
      "2.3346831798553467 0.125\n"
     ]
    }
   ],
   "source": [
    "new_model = create_model()\n",
    "\n",
    "loss, acc = new_model.evaluate(test_images, test_labels, verbose=2)\n",
    "print(loss, acc)"
   ]
  },
  {
   "cell_type": "code",
   "execution_count": 9,
   "metadata": {},
   "outputs": [
    {
     "name": "stdout",
     "output_type": "stream",
     "text": [
      "32/32 - 0s - loss: 0.4125 - accuracy: 0.8700 - 78ms/epoch - 2ms/step\n",
      "0.41249844431877136 0.8700000047683716\n"
     ]
    }
   ],
   "source": [
    "new_model.load_weights(ckpt_path)\n",
    "loss, acc = new_model.evaluate(test_images, test_labels, verbose=2)\n",
    "print(loss, acc)"
   ]
  },
  {
   "cell_type": "code",
   "execution_count": 11,
   "metadata": {},
   "outputs": [
    {
     "name": "stdout",
     "output_type": "stream",
     "text": [
      "WARNING:tensorflow:`period` argument is deprecated. Please use `save_freq` to specify the frequency in number of batches seen.\n",
      "\n",
      "Epoch 5: saving model to training_2\\cp=0005.ckpt\n",
      "\n",
      "Epoch 10: saving model to training_2\\cp=0010.ckpt\n",
      "\n",
      "Epoch 15: saving model to training_2\\cp=0015.ckpt\n",
      "\n",
      "Epoch 20: saving model to training_2\\cp=0020.ckpt\n",
      "\n",
      "Epoch 25: saving model to training_2\\cp=0025.ckpt\n",
      "\n",
      "Epoch 30: saving model to training_2\\cp=0030.ckpt\n",
      "\n",
      "Epoch 35: saving model to training_2\\cp=0035.ckpt\n",
      "\n",
      "Epoch 40: saving model to training_2\\cp=0040.ckpt\n",
      "\n",
      "Epoch 45: saving model to training_2\\cp=0045.ckpt\n",
      "\n",
      "Epoch 50: saving model to training_2\\cp=0050.ckpt\n"
     ]
    },
    {
     "data": {
      "text/plain": [
       "<keras.callbacks.History at 0x19a7cb72b60>"
      ]
     },
     "execution_count": 11,
     "metadata": {},
     "output_type": "execute_result"
    }
   ],
   "source": [
    "ckpt_path = \"training_2/cp={epoch:04d}.ckpt\"\n",
    "ckpt_dir = os.path.dirname(ckpt_path)\n",
    "\n",
    "ckpt_callback = tf.keras.callbacks.ModelCheckpoint(filepath=ckpt_path, verbose=1, save_weights_only=True, period=5)\n",
    "\n",
    "model2 = create_model()\n",
    "\n",
    "model2.save_weights(ckpt_path.format(epoch=0))\n",
    "\n",
    "model2.fit(train_images, train_labels, epochs=50, callbacks=[ckpt_callback], validation_data=(test_images, test_labels), verbose=0)"
   ]
  },
  {
   "cell_type": "code",
   "execution_count": 12,
   "metadata": {},
   "outputs": [
    {
     "data": {
      "text/plain": [
       "['checkpoint',\n",
       " 'cp=0000.ckpt.data-00000-of-00001',\n",
       " 'cp=0000.ckpt.index',\n",
       " 'cp=0005.ckpt.data-00000-of-00001',\n",
       " 'cp=0005.ckpt.index',\n",
       " 'cp=0010.ckpt.data-00000-of-00001',\n",
       " 'cp=0010.ckpt.index',\n",
       " 'cp=0015.ckpt.data-00000-of-00001',\n",
       " 'cp=0015.ckpt.index',\n",
       " 'cp=0020.ckpt.data-00000-of-00001',\n",
       " 'cp=0020.ckpt.index',\n",
       " 'cp=0025.ckpt.data-00000-of-00001',\n",
       " 'cp=0025.ckpt.index',\n",
       " 'cp=0030.ckpt.data-00000-of-00001',\n",
       " 'cp=0030.ckpt.index',\n",
       " 'cp=0035.ckpt.data-00000-of-00001',\n",
       " 'cp=0035.ckpt.index',\n",
       " 'cp=0040.ckpt.data-00000-of-00001',\n",
       " 'cp=0040.ckpt.index',\n",
       " 'cp=0045.ckpt.data-00000-of-00001',\n",
       " 'cp=0045.ckpt.index',\n",
       " 'cp=0050.ckpt.data-00000-of-00001',\n",
       " 'cp=0050.ckpt.index']"
      ]
     },
     "execution_count": 12,
     "metadata": {},
     "output_type": "execute_result"
    }
   ],
   "source": [
    "os.listdir(ckpt_dir)"
   ]
  },
  {
   "cell_type": "code",
   "execution_count": 14,
   "metadata": {},
   "outputs": [
    {
     "data": {
      "text/plain": [
       "'training_2\\\\cp=0050.ckpt'"
      ]
     },
     "execution_count": 14,
     "metadata": {},
     "output_type": "execute_result"
    }
   ],
   "source": [
    "latest = tf.train.latest_checkpoint(ckpt_dir)\n",
    "latest"
   ]
  },
  {
   "cell_type": "code",
   "execution_count": 15,
   "metadata": {},
   "outputs": [
    {
     "name": "stdout",
     "output_type": "stream",
     "text": [
      "32/32 - 0s - loss: 0.4125 - accuracy: 0.8700 - 70ms/epoch - 2ms/step\n",
      "0.41249844431877136 0.8700000047683716\n"
     ]
    }
   ],
   "source": [
    "new_model2 = create_model()\n",
    "new_model2.load_weights(latest)\n",
    "\n",
    "loss, acc = model.evaluate(test_images, test_labels, verbose=2)\n",
    "print(loss, acc)"
   ]
  },
  {
   "cell_type": "code",
   "execution_count": 16,
   "metadata": {},
   "outputs": [
    {
     "name": "stdout",
     "output_type": "stream",
     "text": [
      "32/32 - 0s - loss: 0.4125 - accuracy: 0.8700 - 180ms/epoch - 6ms/step\n",
      "0.41249844431877136 0.8700000047683716\n"
     ]
    }
   ],
   "source": [
    "model.save_weights(\"./checkpoints/my_ckpt\")\n",
    "\n",
    "model = create_model()\n",
    "\n",
    "model.load_weights(\"./checkpoints/my_ckpt\")\n",
    "\n",
    "loss, acc = model.evaluate(test_images, test_labels, verbose=2)\n",
    "print(loss, acc)"
   ]
  },
  {
   "cell_type": "code",
   "execution_count": 17,
   "metadata": {},
   "outputs": [
    {
     "name": "stdout",
     "output_type": "stream",
     "text": [
      "Epoch 1/5\n",
      "32/32 [==============================] - 0s 3ms/step - loss: 1.1747 - accuracy: 0.6780\n",
      "Epoch 2/5\n",
      "32/32 [==============================] - 0s 4ms/step - loss: 0.4258 - accuracy: 0.8810\n",
      "Epoch 3/5\n",
      "32/32 [==============================] - 0s 4ms/step - loss: 0.2934 - accuracy: 0.9210\n",
      "Epoch 4/5\n",
      "32/32 [==============================] - 0s 4ms/step - loss: 0.2120 - accuracy: 0.9520\n",
      "Epoch 5/5\n",
      "32/32 [==============================] - 0s 3ms/step - loss: 0.1479 - accuracy: 0.9760\n",
      "WARNING:tensorflow:Detecting that an object or model or tf.train.Checkpoint is being deleted with unrestored values. See the following logs for the specific values in question. To silence these warnings, use `status.expect_partial()`. See https://www.tensorflow.org/api_docs/python/tf/train/Checkpoint#restorefor details about the status object returned by the restore function.\n",
      "WARNING:tensorflow:Value in checkpoint could not be found in the restored object: (root).optimizer.iter\n",
      "WARNING:tensorflow:Value in checkpoint could not be found in the restored object: (root).optimizer.beta_1\n",
      "WARNING:tensorflow:Value in checkpoint could not be found in the restored object: (root).optimizer.beta_2\n",
      "WARNING:tensorflow:Value in checkpoint could not be found in the restored object: (root).optimizer.decay\n",
      "WARNING:tensorflow:Value in checkpoint could not be found in the restored object: (root).optimizer.learning_rate\n",
      "INFO:tensorflow:Assets written to: saved_model/my_model\\assets\n"
     ]
    }
   ],
   "source": [
    "model = create_model()\n",
    "model.fit(train_images, train_labels, epochs=5)\n",
    "\n",
    "!mkdir -p saved_model\n",
    "model.save(\"saved_model/my_model\")"
   ]
  },
  {
   "cell_type": "code",
   "execution_count": 21,
   "metadata": {},
   "outputs": [
    {
     "name": "stdout",
     "output_type": "stream",
     "text": [
      "Model: \"sequential_7\"\n",
      "_________________________________________________________________\n",
      " Layer (type)                Output Shape              Param #   \n",
      "=================================================================\n",
      " dense_14 (Dense)            (None, 512)               401920    \n",
      "                                                                 \n",
      " dropout_7 (Dropout)         (None, 512)               0         \n",
      "                                                                 \n",
      " dense_15 (Dense)            (None, 10)                5130      \n",
      "                                                                 \n",
      "=================================================================\n",
      "Total params: 407,050\n",
      "Trainable params: 407,050\n",
      "Non-trainable params: 0\n",
      "_________________________________________________________________\n"
     ]
    }
   ],
   "source": [
    "new_model = tf.keras.models.load_model(\"saved_model/my_model\")\n",
    "\n",
    "new_model.summary()"
   ]
  },
  {
   "cell_type": "code",
   "execution_count": 22,
   "metadata": {},
   "outputs": [
    {
     "name": "stdout",
     "output_type": "stream",
     "text": [
      "32/32 - 0s - loss: 0.4097 - accuracy: 0.8690 - 141ms/epoch - 4ms/step\n",
      "0.4096827805042267 0.8690000176429749\n"
     ]
    }
   ],
   "source": [
    "loss, acc = new_model.evaluate(test_images, test_labels, verbose=2)\n",
    "print(loss, acc)"
   ]
  },
  {
   "cell_type": "code",
   "execution_count": 23,
   "metadata": {},
   "outputs": [
    {
     "name": "stdout",
     "output_type": "stream",
     "text": [
      "Epoch 1/5\n",
      "32/32 [==============================] - 0s 4ms/step - loss: 1.1185 - accuracy: 0.6760\n",
      "Epoch 2/5\n",
      "32/32 [==============================] - 0s 4ms/step - loss: 0.4113 - accuracy: 0.8800\n",
      "Epoch 3/5\n",
      "32/32 [==============================] - 0s 4ms/step - loss: 0.2781 - accuracy: 0.9180\n",
      "Epoch 4/5\n",
      "32/32 [==============================] - 0s 4ms/step - loss: 0.2075 - accuracy: 0.9520\n",
      "Epoch 5/5\n",
      "32/32 [==============================] - 0s 4ms/step - loss: 0.1494 - accuracy: 0.9680\n"
     ]
    }
   ],
   "source": [
    "model = create_model()\n",
    "model.fit(train_images, train_labels, epochs=5)\n",
    "model.save(\"my_model.h5\")"
   ]
  },
  {
   "cell_type": "code",
   "execution_count": 24,
   "metadata": {},
   "outputs": [
    {
     "name": "stdout",
     "output_type": "stream",
     "text": [
      "Model: \"sequential_8\"\n",
      "_________________________________________________________________\n",
      " Layer (type)                Output Shape              Param #   \n",
      "=================================================================\n",
      " dense_16 (Dense)            (None, 512)               401920    \n",
      "                                                                 \n",
      " dropout_8 (Dropout)         (None, 512)               0         \n",
      "                                                                 \n",
      " dense_17 (Dense)            (None, 10)                5130      \n",
      "                                                                 \n",
      "=================================================================\n",
      "Total params: 407,050\n",
      "Trainable params: 407,050\n",
      "Non-trainable params: 0\n",
      "_________________________________________________________________\n"
     ]
    }
   ],
   "source": [
    "new_model = tf.keras.models.load_model(\"my_model.h5\")\n",
    "new_model.summary()"
   ]
  },
  {
   "cell_type": "code",
   "execution_count": 25,
   "metadata": {},
   "outputs": [
    {
     "name": "stdout",
     "output_type": "stream",
     "text": [
      "32/32 - 0s - loss: 0.4302 - accuracy: 0.8540 - 152ms/epoch - 5ms/step\n",
      "0.4302055537700653 0.8539999723434448\n"
     ]
    }
   ],
   "source": [
    "loss, acc = new_model.evaluate(test_images, test_labels, verbose=2)\n",
    "print(loss, acc)"
   ]
  },
  {
   "cell_type": "code",
   "execution_count": 26,
   "metadata": {},
   "outputs": [],
   "source": [
    "# MIT License\n",
    "#\n",
    "# Copyright (c) 2017 François Chollet\n",
    "#\n",
    "# Permission is hereby granted, free of charge, to any person obtaining a\n",
    "# copy of this software and associated documentation files (the \"Software\"),\n",
    "# to deal in the Software without restriction, including without limitation\n",
    "# the rights to use, copy, modify, merge, publish, distribute, sublicense,\n",
    "# and/or sell copies of the Software, and to permit persons to whom the\n",
    "# Software is furnished to do so, subject to the following conditions:\n",
    "#\n",
    "# The above copyright notice and this permission notice shall be included in\n",
    "# all copies or substantial portions of the Software.\n",
    "#\n",
    "# THE SOFTWARE IS PROVIDED \"AS IS\", WITHOUT WARRANTY OF ANY KIND, EXPRESS OR\n",
    "# IMPLIED, INCLUDING BUT NOT LIMITED TO THE WARRANTIES OF MERCHANTABILITY,\n",
    "# FITNESS FOR A PARTICULAR PURPOSE AND NONINFRINGEMENT. IN NO EVENT SHALL\n",
    "# THE AUTHORS OR COPYRIGHT HOLDERS BE LIABLE FOR ANY CLAIM, DAMAGES OR OTHER\n",
    "# LIABILITY, WHETHER IN AN ACTION OF CONTRACT, TORT OR OTHERWISE, ARISING\n",
    "# FROM, OUT OF OR IN CONNECTION WITH THE SOFTWARE OR THE USE OR OTHER\n",
    "# DEALINGS IN THE SOFTWARE."
   ]
  },
  {
   "cell_type": "code",
   "execution_count": null,
   "metadata": {},
   "outputs": [],
   "source": []
  }
 ],
 "metadata": {
  "kernelspec": {
   "display_name": "aiWs",
   "language": "python",
   "name": "python3"
  },
  "language_info": {
   "codemirror_mode": {
    "name": "ipython",
    "version": 3
   },
   "file_extension": ".py",
   "mimetype": "text/x-python",
   "name": "python",
   "nbconvert_exporter": "python",
   "pygments_lexer": "ipython3",
   "version": "3.10.4"
  },
  "orig_nbformat": 4,
  "vscode": {
   "interpreter": {
    "hash": "764ba4b8d6f2362b477200584944158c9736904205cbc7cf7caf94c24ea1b1a3"
   }
  }
 },
 "nbformat": 4,
 "nbformat_minor": 2
}
